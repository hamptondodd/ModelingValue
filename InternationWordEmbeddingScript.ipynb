{
 "cells": [
  {
   "cell_type": "code",
   "execution_count": 1,
   "id": "977c7e17",
   "metadata": {},
   "outputs": [],
   "source": [
    "import nltk\n",
    "#nltk.download()\n",
    "import numpy as np\n",
    "import pandas as pd\n",
    "import gensim\n",
    "from gensim.test.utils import common_texts\n",
    "from gensim.models import Word2Vec\n",
    "from gensim.models.word2vec import LineSentence\n",
    "import urllib.request\n",
    "import shutil\n",
    "import os\n",
    "import random\n",
    "from copy import deepcopy\n",
    "from nltk.tokenize import sent_tokenize, word_tokenize\n",
    "from gensim.utils import simple_preprocess"
   ]
  },
  {
   "cell_type": "code",
   "execution_count": 2,
   "id": "0c79976f",
   "metadata": {},
   "outputs": [],
   "source": [
    "#Remove stopwords\n",
    "from nltk.corpus import stopwords\n",
    "stops = stopwords.words('english')"
   ]
  },
  {
   "cell_type": "code",
   "execution_count": 3,
   "id": "c9f88f99",
   "metadata": {},
   "outputs": [],
   "source": [
    "#Upload text corpus\n",
    "filename = 'InternationCorpus.txt'\n",
    "file = open(filename, 'rt', encoding='utf-8')\n",
    "text = file.read()\n",
    "file.close()"
   ]
  },
  {
   "cell_type": "code",
   "execution_count": 4,
   "id": "32bce4fb",
   "metadata": {},
   "outputs": [],
   "source": [
    "data_ex = []\n",
    "for i in sent_tokenize(text):\n",
    "    temp = []\n",
    "    # tokenize the sentence into words\n",
    "    for j in word_tokenize(i):\n",
    "        if j not in stops: \n",
    "            if j.isalpha():\n",
    "                temp.append(j.lower())\n",
    "                data_ex.append(temp)"
   ]
  },
  {
   "cell_type": "code",
   "execution_count": 1,
   "id": "f8a26cd2",
   "metadata": {},
   "outputs": [
    {
     "ename": "NameError",
     "evalue": "name 'data_ex' is not defined",
     "output_type": "error",
     "traceback": [
      "\u001b[0;31m---------------------------------------------------------------------------\u001b[0m",
      "\u001b[0;31mNameError\u001b[0m                                 Traceback (most recent call last)",
      "\u001b[0;32m/var/folders/x1/24l1r58130v3z7x50tqcxckm0000gn/T/ipykernel_66019/1958706817.py\u001b[0m in \u001b[0;36m<module>\u001b[0;34m\u001b[0m\n\u001b[0;32m----> 1\u001b[0;31m \u001b[0mflat_list\u001b[0m \u001b[0;34m=\u001b[0m \u001b[0;34m[\u001b[0m\u001b[0mitem\u001b[0m \u001b[0;32mfor\u001b[0m \u001b[0msublist\u001b[0m \u001b[0;32min\u001b[0m \u001b[0mdata_ex\u001b[0m \u001b[0;32mfor\u001b[0m \u001b[0mitem\u001b[0m \u001b[0;32min\u001b[0m \u001b[0msublist\u001b[0m\u001b[0;34m]\u001b[0m\u001b[0;34m\u001b[0m\u001b[0;34m\u001b[0m\u001b[0m\n\u001b[0m",
      "\u001b[0;31mNameError\u001b[0m: name 'data_ex' is not defined"
     ]
    }
   ],
   "source": [
    "#Flatten list\n",
    "flat_list = [item for sublist in data_ex for item in sublist]"
   ]
  },
  {
   "cell_type": "code",
   "execution_count": 6,
   "id": "17d613bc",
   "metadata": {},
   "outputs": [],
   "source": [
    "#Train Word2Vec model on corpus\n",
    "model_tot = Word2Vec (data_ex, vector_size=50, \n",
    "                      window=3, \n",
    "                      min_count=5,\n",
    "                      workers=3,\n",
    "                      sg=1, \n",
    "                      hs=0, \n",
    "                      negative=5,\n",
    "                      epochs=10)"
   ]
  },
  {
   "cell_type": "code",
   "execution_count": 7,
   "id": "640691e1",
   "metadata": {},
   "outputs": [],
   "source": [
    "#Set variable for\n",
    "stiegler_embeddings = model_tot.wv"
   ]
  },
  {
   "cell_type": "markdown",
   "id": "cdbb3d92",
   "metadata": {},
   "source": [
    "# Create new vector for V(Value) - V(Anthropocene) + V(Neganthropocene)"
   ]
  },
  {
   "cell_type": "code",
   "execution_count": 8,
   "id": "bb233b13",
   "metadata": {},
   "outputs": [],
   "source": [
    "diff = stiegler_embeddings[\"value\"] - stiegler_embeddings[\"anthropocene\"] + stiegler_embeddings[\"neganthropocene\"]"
   ]
  },
  {
   "cell_type": "code",
   "execution_count": 9,
   "id": "38856253",
   "metadata": {},
   "outputs": [
    {
     "name": "stderr",
     "output_type": "stream",
     "text": [
      "/Users/bubmelon/opt/anaconda3/lib/python3.9/site-packages/gensim/models/keyedvectors.py:478: UserWarning: Adding single vectors to a KeyedVectors which grows by one each time can be costly. Consider adding in batches or preallocating to the required size.\n",
      "  warnings.warn(\n"
     ]
    },
    {
     "data": {
      "text/plain": [
       "21604"
      ]
     },
     "execution_count": 9,
     "metadata": {},
     "output_type": "execute_result"
    }
   ],
   "source": [
    "stiegler_embeddings.add_vector(\"value - anthropocene + neganthropocene\", diff)"
   ]
  },
  {
   "cell_type": "code",
   "execution_count": 10,
   "id": "251f172a",
   "metadata": {},
   "outputs": [
    {
     "data": {
      "text/plain": [
       "[('value', 0.8613726496696472),\n",
       " ('exchange', 0.7188788056373596),\n",
       " ('values', 0.6878417134284973),\n",
       " ('geobiochemical', 0.6575380563735962),\n",
       " ('accrues', 0.6146430969238281),\n",
       " ('quantifiable', 0.5975689888000488),\n",
       " ('devaluing', 0.5909380316734314),\n",
       " ('habitualities', 0.5845468640327454),\n",
       " ('renew', 0.5641688108444214),\n",
       " ('revaluation', 0.5631635785102844)]"
      ]
     },
     "execution_count": 10,
     "metadata": {},
     "output_type": "execute_result"
    }
   ],
   "source": [
    "#Query for most similar vectors to newly created vector\n",
    "stiegler_embeddings.most_similar(\"value - anthropocene + neganthropocene\", topn=10)"
   ]
  },
  {
   "cell_type": "markdown",
   "id": "86911d3b",
   "metadata": {},
   "source": [
    "# Query for most similar vectors for different concepts in the Internation lexicon"
   ]
  },
  {
   "cell_type": "code",
   "execution_count": 11,
   "id": "bb6430d6",
   "metadata": {},
   "outputs": [
    {
     "data": {
      "text/plain": [
       "[('time', 0.7783752083778381),\n",
       " ('volumes', 0.736415445804596),\n",
       " ('reckons', 0.7298973798751831),\n",
       " ('reissued', 0.7211585640907288),\n",
       " ('offshoot', 0.6778544783592224),\n",
       " ('tried', 0.6608783602714539),\n",
       " ('inshallah', 0.6587519645690918),\n",
       " ('show', 0.6547037959098816),\n",
       " ('discussed', 0.6531870365142822),\n",
       " ('volume', 0.6503831148147583)]"
      ]
     },
     "execution_count": 11,
     "metadata": {},
     "output_type": "execute_result"
    }
   ],
   "source": [
    "stiegler_embeddings.most_similar(\"technics\")"
   ]
  },
  {
   "cell_type": "code",
   "execution_count": 63,
   "id": "69fdcbdb",
   "metadata": {},
   "outputs": [
    {
     "data": {
      "text/plain": [
       "[('cmos', 0.736640989780426),\n",
       " ('recommend', 0.7281942367553711),\n",
       " ('modernen', 0.7259929180145264),\n",
       " ('spearheaded', 0.7137773633003235),\n",
       " ('moderne', 0.6824285984039307),\n",
       " ('vanessa', 0.6580342650413513),\n",
       " ('clarisse', 0.6522868871688843),\n",
       " ('reorienting', 0.6475736498832703),\n",
       " ('robotic', 0.6455805897712708),\n",
       " ('stressing', 0.6389220952987671),\n",
       " ('vaucanson', 0.636132001876831),\n",
       " ('halides', 0.6277623176574707),\n",
       " ('computing', 0.6199024319648743),\n",
       " ('bartlett', 0.6131765246391296),\n",
       " ('bruce', 0.6125606298446655),\n",
       " ('democratizing', 0.6113669276237488),\n",
       " ('fogg', 0.6102190613746643),\n",
       " ('logistical', 0.6096764802932739),\n",
       " ('herrenschmidt', 0.6082855463027954),\n",
       " ('silver', 0.6079234480857849)]"
      ]
     },
     "execution_count": 63,
     "metadata": {},
     "output_type": "execute_result"
    }
   ],
   "source": [
    "stiegler_embeddings.most_similar(\"technology\",topn=20)"
   ]
  },
  {
   "cell_type": "code",
   "execution_count": 13,
   "id": "c207e320",
   "metadata": {},
   "outputs": [
    {
     "data": {
      "text/plain": [
       "[('tertiary', 0.9490371346473694),\n",
       " ('hypomnesic', 0.8199015259742737),\n",
       " ('retentions', 0.7513769268989563),\n",
       " ('substrates', 0.7417627573013306),\n",
       " ('digital', 0.7360805869102478),\n",
       " ('inflected', 0.710959255695343),\n",
       " ('artefactuality', 0.6997618079185486),\n",
       " ('literal', 0.6918079853057861),\n",
       " ('interpolating', 0.687772810459137),\n",
       " ('analogue', 0.6864179968833923)]"
      ]
     },
     "execution_count": 13,
     "metadata": {},
     "output_type": "execute_result"
    }
   ],
   "source": [
    "stiegler_embeddings.most_similar(\"retention\")"
   ]
  },
  {
   "cell_type": "code",
   "execution_count": 14,
   "id": "180783ed",
   "metadata": {},
   "outputs": [
    {
     "data": {
      "text/plain": [
       "[('deep', 0.676280677318573),\n",
       " ('exceptions', 0.6451587677001953),\n",
       " ('vying', 0.627785861492157),\n",
       " ('attenuates', 0.6065511703491211),\n",
       " ('woodwind', 0.6004159450531006),\n",
       " ('hijack', 0.5948998332023621),\n",
       " ('capitalocenic', 0.5905821919441223),\n",
       " ('mediatize', 0.5898988246917725),\n",
       " ('pay', 0.5842369198799133),\n",
       " ('socializes', 0.5842079520225525)]"
      ]
     },
     "execution_count": 14,
     "metadata": {},
     "output_type": "execute_result"
    }
   ],
   "source": [
    "stiegler_embeddings.most_similar(\"attention\")"
   ]
  },
  {
   "cell_type": "code",
   "execution_count": 15,
   "id": "2c3c00fe",
   "metadata": {},
   "outputs": [
    {
     "data": {
      "text/plain": [
       "[('infinitized', 0.6994484663009644),\n",
       " ('superegoization', 0.6645197868347168),\n",
       " ('infinitization', 0.6516377329826355),\n",
       " ('disautomatizes', 0.637347936630249),\n",
       " ('idealization', 0.6366394758224487),\n",
       " ('sublimating', 0.6279041171073914),\n",
       " ('branching', 0.6238740682601929),\n",
       " ('imbrication', 0.6215700507164001),\n",
       " ('imprecation', 0.6190841197967529),\n",
       " ('reserving', 0.6142826080322266)]"
      ]
     },
     "execution_count": 15,
     "metadata": {},
     "output_type": "execute_result"
    }
   ],
   "source": [
    "stiegler_embeddings.most_similar(\"desire\")"
   ]
  },
  {
   "cell_type": "code",
   "execution_count": 16,
   "id": "1f6752c7",
   "metadata": {},
   "outputs": [
    {
     "data": {
      "text/plain": [
       "[('conceptuel', 0.7578508853912354),\n",
       " ('conceptualize', 0.7505029439926147),\n",
       " ('resting', 0.7084600329399109),\n",
       " ('forms', 0.7054364085197449),\n",
       " ('conceptualiser', 0.66239333152771),\n",
       " ('théoriser', 0.6594697833061218),\n",
       " ('artefacture', 0.6559188365936279),\n",
       " ('subjected', 0.652621328830719),\n",
       " ('authorizes', 0.6495437026023865),\n",
       " ('therapies', 0.6485124826431274)]"
      ]
     },
     "execution_count": 16,
     "metadata": {},
     "output_type": "execute_result"
    }
   ],
   "source": [
    "stiegler_embeddings.most_similar(\"knowledge\")"
   ]
  },
  {
   "cell_type": "code",
   "execution_count": 17,
   "id": "0da01104",
   "metadata": {},
   "outputs": [
    {
     "data": {
      "text/plain": [
       "[('negentropy', 0.8846831321716309),\n",
       " ('anthropy', 0.7237330079078674),\n",
       " ('negative', 0.721427857875824),\n",
       " ('diffère', 0.7200011610984802),\n",
       " ('readdress', 0.6904017329216003),\n",
       " ('determinist', 0.680193305015564),\n",
       " ('generalizing', 0.671473503112793),\n",
       " ('postponing', 0.6699251532554626),\n",
       " ('conjugation', 0.6661136150360107),\n",
       " ('neganthropy', 0.6623657941818237)]"
      ]
     },
     "execution_count": 17,
     "metadata": {},
     "output_type": "execute_result"
    }
   ],
   "source": [
    "stiegler_embeddings.most_similar(\"entropy\")"
   ]
  },
  {
   "cell_type": "code",
   "execution_count": 18,
   "id": "a2c9e23e",
   "metadata": {},
   "outputs": [
    {
     "data": {
      "text/plain": [
       "[('entropy', 0.8846830725669861),\n",
       " ('negative', 0.723955512046814),\n",
       " ('neganthropy', 0.7196489572525024),\n",
       " ('schrödinger', 0.7027323246002197),\n",
       " ('valorizes', 0.6911834478378296),\n",
       " ('accentuation', 0.6844276189804077),\n",
       " ('defer', 0.681965708732605),\n",
       " ('disautomatizes', 0.6648425459861755),\n",
       " ('anthropy', 0.6620362401008606),\n",
       " ('asymmetrical', 0.6612644195556641)]"
      ]
     },
     "execution_count": 18,
     "metadata": {},
     "output_type": "execute_result"
    }
   ],
   "source": [
    "stiegler_embeddings.most_similar(\"negentropy\")"
   ]
  },
  {
   "cell_type": "code",
   "execution_count": 19,
   "id": "259ff310",
   "metadata": {},
   "outputs": [
    {
     "data": {
      "text/plain": [
       "[('entropocene', 0.72447669506073),\n",
       " ('neganthropocene', 0.6845136880874634),\n",
       " ('epoch', 0.6823021769523621),\n",
       " ('era', 0.6690968871116638),\n",
       " ('insolvent', 0.6614012122154236),\n",
       " ('ideologemes', 0.6515433192253113),\n",
       " ('capitalocene', 0.6463357210159302),\n",
       " ('reaching', 0.6363784074783325),\n",
       " ('excesses', 0.6232054829597473),\n",
       " ('serendipity', 0.6193262338638306)]"
      ]
     },
     "execution_count": 19,
     "metadata": {},
     "output_type": "execute_result"
    }
   ],
   "source": [
    "stiegler_embeddings.most_similar(\"anthropocene\")"
   ]
  },
  {
   "cell_type": "code",
   "execution_count": 20,
   "id": "138c8a6f",
   "metadata": {},
   "outputs": [
    {
     "data": {
      "text/plain": [
       "[('entropocene', 0.7400616407394409),\n",
       " ('anthropocene', 0.6845136284828186),\n",
       " ('noeō', 0.6493979692459106),\n",
       " ('builder', 0.641394853591919),\n",
       " ('proponent', 0.6347886323928833),\n",
       " ('transvaluation', 0.6255218386650085),\n",
       " ('maussian', 0.6130622625350952),\n",
       " ('path', 0.6100145578384399),\n",
       " ('hermeneutics', 0.5966799855232239),\n",
       " ('obtaining', 0.5911752581596375)]"
      ]
     },
     "execution_count": 20,
     "metadata": {},
     "output_type": "execute_result"
    }
   ],
   "source": [
    "stiegler_embeddings.most_similar(\"neganthropocene\")"
   ]
  },
  {
   "cell_type": "code",
   "execution_count": 21,
   "id": "e25e0159",
   "metadata": {},
   "outputs": [
    {
     "data": {
      "text/plain": [
       "[('collective', 0.7702749967575073),\n",
       " ('psychic', 0.7456943392753601),\n",
       " ('attenuating', 0.7270628809928894),\n",
       " ('disaggregates', 0.7013149261474609),\n",
       " ('psychosocial', 0.682128369808197),\n",
       " ('wiped', 0.6767390370368958),\n",
       " ('psychique', 0.6760032773017883),\n",
       " ('vital', 0.6610608696937561),\n",
       " ('woven', 0.6577696204185486),\n",
       " ('unravels', 0.6551516652107239)]"
      ]
     },
     "execution_count": 21,
     "metadata": {},
     "output_type": "execute_result"
    }
   ],
   "source": [
    "stiegler_embeddings.most_similar(\"individuation\")"
   ]
  },
  {
   "cell_type": "code",
   "execution_count": 22,
   "id": "69e4c5f6",
   "metadata": {},
   "outputs": [
    {
     "data": {
      "text/plain": [
       "[('disaffectable', 0.7421039938926697),\n",
       " ('unequipped', 0.7144689559936523),\n",
       " ('noesis', 0.6990973949432373),\n",
       " ('soul', 0.6954991817474365),\n",
       " ('configures', 0.6781349778175354),\n",
       " ('faculties', 0.6575473546981812),\n",
       " ('functions', 0.6445522308349609),\n",
       " ('exosomatization', 0.6387421488761902),\n",
       " ('retying', 0.6328592300415039),\n",
       " ('dephased', 0.63093501329422)]"
      ]
     },
     "execution_count": 22,
     "metadata": {},
     "output_type": "execute_result"
    }
   ],
   "source": [
    "stiegler_embeddings.most_similar(\"noetic\")"
   ]
  },
  {
   "cell_type": "code",
   "execution_count": 23,
   "id": "09da7edd",
   "metadata": {},
   "outputs": [
    {
     "data": {
      "text/plain": [
       "[('pharmacology', 0.7507611513137817),\n",
       " ('general', 0.720736026763916),\n",
       " ('communicational', 0.6498357653617859),\n",
       " ('exorganology', 0.6372517347335815),\n",
       " ('askeses', 0.6218468546867371),\n",
       " ('archivize', 0.6090736389160156),\n",
       " ('latter', 0.6084312200546265),\n",
       " ('uncareable', 0.6037228107452393),\n",
       " ('capabilization', 0.5963497161865234),\n",
       " ('practical', 0.5913360118865967)]"
      ]
     },
     "execution_count": 23,
     "metadata": {},
     "output_type": "execute_result"
    }
   ],
   "source": [
    "stiegler_embeddings.most_similar(\"organology\")"
   ]
  },
  {
   "cell_type": "code",
   "execution_count": 24,
   "id": "d47dee6c",
   "metadata": {},
   "outputs": [
    {
     "data": {
      "text/plain": [
       "[('substrates', 0.7510442733764648),\n",
       " ('tertiary', 0.747316300868988),\n",
       " ('retention', 0.7360806465148926),\n",
       " ('reticular', 0.7065581679344177),\n",
       " ('analogue', 0.7057005763053894),\n",
       " ('doigts', 0.7042391300201416),\n",
       " ('technologies', 0.6870657801628113),\n",
       " ('computationalization', 0.6807721853256226),\n",
       " ('miniscule', 0.6720370054244995),\n",
       " ('guglielmo', 0.6650487780570984)]"
      ]
     },
     "execution_count": 24,
     "metadata": {},
     "output_type": "execute_result"
    }
   ],
   "source": [
    "stiegler_embeddings.most_similar(\"digital\")"
   ]
  },
  {
   "cell_type": "code",
   "execution_count": 25,
   "id": "55ad86de",
   "metadata": {},
   "outputs": [
    {
     "data": {
      "text/plain": [
       "[('organology', 0.7507611513137817),\n",
       " ('azar', 0.6721118688583374),\n",
       " ('deindustrialization', 0.6674880385398865),\n",
       " ('positive', 0.6522679924964905),\n",
       " ('degrowth', 0.6485275626182556),\n",
       " ('apparaît', 0.6421346068382263),\n",
       " ('mitra', 0.6403305530548096),\n",
       " ('situating', 0.6391483545303345),\n",
       " ('mortifies', 0.6177738308906555),\n",
       " ('question', 0.6073922514915466)]"
      ]
     },
     "execution_count": 25,
     "metadata": {},
     "output_type": "execute_result"
    }
   ],
   "source": [
    "stiegler_embeddings.most_similar(\"pharmacology\")"
   ]
  },
  {
   "cell_type": "code",
   "execution_count": 27,
   "id": "f118e87e",
   "metadata": {},
   "outputs": [
    {
     "data": {
      "text/plain": [
       "[('cependant', 0.7532028555870056),\n",
       " ('prend', 0.7423298358917236),\n",
       " ('penser', 0.7327167391777039),\n",
       " ('rend', 0.729326069355011),\n",
       " ('think', 0.7174656391143799),\n",
       " ('prendre', 0.7089609503746033),\n",
       " ('sinon', 0.7072243094444275),\n",
       " ('panser', 0.7006486058235168),\n",
       " ('soit', 0.6978585720062256),\n",
       " ('soin', 0.6926091313362122),\n",
       " ('fictioning', 0.6840043067932129),\n",
       " ('sociodiversity', 0.6816255450248718),\n",
       " ('pansé', 0.6809771060943604),\n",
       " ('take', 0.6780964136123657),\n",
       " ('verbalized', 0.6713129878044128)]"
      ]
     },
     "execution_count": 27,
     "metadata": {},
     "output_type": "execute_result"
    }
   ],
   "source": [
    "stiegler_embeddings.most_similar(\"care\",topn=15)"
   ]
  },
  {
   "cell_type": "code",
   "execution_count": 28,
   "id": "db318ba3",
   "metadata": {},
   "outputs": [
    {
     "data": {
      "text/plain": [
       "[('vermont', 0.6368728280067444),\n",
       " ('dusk', 0.6327555775642395),\n",
       " ('destruktion', 0.6250388026237488),\n",
       " ('flies', 0.6172486543655396),\n",
       " ('presocratic', 0.6154791116714478),\n",
       " ('plead', 0.6084373593330383),\n",
       " ('bicentennial', 0.6048918962478638),\n",
       " ('arrive', 0.6040093898773193),\n",
       " ('history', 0.6037012934684753),\n",
       " ('whence', 0.5951615571975708)]"
      ]
     },
     "execution_count": 28,
     "metadata": {},
     "output_type": "execute_result"
    }
   ],
   "source": [
    "stiegler_embeddings.most_similar(\"philosophy\")"
   ]
  },
  {
   "cell_type": "code",
   "execution_count": 30,
   "id": "752562cb",
   "metadata": {},
   "outputs": [
    {
     "data": {
      "text/plain": [
       "[('disquieting', 0.6883858442306519),\n",
       " ('computational', 0.6853792667388916),\n",
       " ('consigning', 0.6803712844848633),\n",
       " ('homogenous', 0.6761313676834106),\n",
       " ('disapprenticeship', 0.6736821532249451),\n",
       " ('industrial', 0.6638430953025818),\n",
       " ('platform', 0.6612711548805237),\n",
       " ('smart', 0.6313046813011169),\n",
       " ('computationalization', 0.6202378273010254),\n",
       " ('frustrations', 0.618009626865387)]"
      ]
     },
     "execution_count": 30,
     "metadata": {},
     "output_type": "execute_result"
    }
   ],
   "source": [
    "stiegler_embeddings.most_similar(\"capitalism\")"
   ]
  },
  {
   "cell_type": "code",
   "execution_count": 31,
   "id": "781d0109",
   "metadata": {},
   "outputs": [
    {
     "data": {
      "text/plain": [
       "[('monetizable', 0.6708230376243591),\n",
       " ('expensive', 0.661074161529541),\n",
       " ('hegemonic', 0.6509777903556824),\n",
       " ('amortizing', 0.6414578557014465),\n",
       " ('formalism', 0.6328349709510803),\n",
       " ('computational', 0.6286122798919678),\n",
       " ('computability', 0.6253649592399597),\n",
       " ('exclusively', 0.6220722198486328),\n",
       " ('value', 0.6209055185317993),\n",
       " ('formatted', 0.615962564945221)]"
      ]
     },
     "execution_count": 31,
     "metadata": {},
     "output_type": "execute_result"
    }
   ],
   "source": [
    "stiegler_embeddings.most_similar(\"calculation\")"
   ]
  },
  {
   "cell_type": "code",
   "execution_count": 32,
   "id": "590bfdd5",
   "metadata": {},
   "outputs": [
    {
     "data": {
      "text/plain": [
       "[('fulfilment', 0.7023367881774902),\n",
       " ('apathy', 0.6677655577659607),\n",
       " ('nietzsche', 0.6643030047416687),\n",
       " ('accompli', 0.6578369736671448),\n",
       " ('endpoint', 0.641044557094574),\n",
       " ('nihil', 0.6306118369102478),\n",
       " ('gefahr', 0.6271072030067444),\n",
       " ('absolute', 0.6170580387115479),\n",
       " ('rehashes', 0.6124423742294312),\n",
       " ('capitalism', 0.6074644923210144)]"
      ]
     },
     "execution_count": 32,
     "metadata": {},
     "output_type": "execute_result"
    }
   ],
   "source": [
    "stiegler_embeddings.most_similar(\"nihilism\")"
   ]
  },
  {
   "cell_type": "code",
   "execution_count": 33,
   "id": "d2f5ebfc",
   "metadata": {},
   "outputs": [
    {
     "data": {
      "text/plain": [
       "[('function', 0.7185988426208496),\n",
       " ('kant', 0.6864092350006104),\n",
       " ('understanding', 0.6835809946060181),\n",
       " ('surprehensible', 0.6829099655151367),\n",
       " ('whitehead', 0.6805684566497803),\n",
       " ('synthetic', 0.6751573085784912),\n",
       " ('mythogram', 0.6607344150543213),\n",
       " ('attaining', 0.6532158255577087),\n",
       " ('ideality', 0.6499876976013184),\n",
       " ('synthesizable', 0.6453694105148315)]"
      ]
     },
     "execution_count": 33,
     "metadata": {},
     "output_type": "execute_result"
    }
   ],
   "source": [
    "stiegler_embeddings.most_similar(\"reason\")"
   ]
  },
  {
   "cell_type": "code",
   "execution_count": 34,
   "id": "227d09f9",
   "metadata": {},
   "outputs": [
    {
     "data": {
      "text/plain": [
       "[('questions', 0.747482419013977),\n",
       " ('thrust', 0.6842015385627747),\n",
       " ('refoundation', 0.6811471581459045),\n",
       " ('accomplit', 0.6620357036590576),\n",
       " ('this', 0.6487860679626465),\n",
       " ('broadens', 0.6465510129928589),\n",
       " ('simplification', 0.6423921585083008),\n",
       " ('anamnesis', 0.6416788697242737),\n",
       " ('stoicism', 0.6370909810066223),\n",
       " ('introduced', 0.6313378810882568)]"
      ]
     },
     "execution_count": 34,
     "metadata": {},
     "output_type": "execute_result"
    }
   ],
   "source": [
    "stiegler_embeddings.most_similar(\"question\")"
   ]
  },
  {
   "cell_type": "code",
   "execution_count": 40,
   "id": "4fde1814",
   "metadata": {},
   "outputs": [
    {
     "data": {
      "text/plain": [
       "[('pergamon', 0.7559228539466858),\n",
       " ('grove', 0.7558988928794861),\n",
       " ('ulmen', 0.7498067021369934),\n",
       " ('langmuir', 0.7439010143280029),\n",
       " ('rizzoli', 0.7404540777206421),\n",
       " ('instruisant', 0.7380119562149048),\n",
       " ('wade', 0.7279983162879944),\n",
       " ('ginsburg', 0.7255688905715942),\n",
       " ('littlefield', 0.7216566801071167),\n",
       " ('gregor', 0.7121405005455017),\n",
       " ('southgate', 0.7088695168495178),\n",
       " ('braziller', 0.7019785046577454),\n",
       " ('williamson', 0.6993902325630188),\n",
       " ('bargmann', 0.6960814595222473),\n",
       " ('baskin', 0.6952893137931824),\n",
       " ('harries', 0.6882601380348206),\n",
       " ('york', 0.6859548687934875),\n",
       " ('searls', 0.6820592880249023),\n",
       " ('derek', 0.6802909970283508),\n",
       " ('artisanship', 0.6801791191101074),\n",
       " ('betty', 0.677215576171875),\n",
       " ('informing', 0.6751259565353394),\n",
       " ('manyon', 0.6739545464515686),\n",
       " ('coltman', 0.6732233762741089),\n",
       " ('rowman', 0.6710813641548157),\n",
       " ('geroulanos', 0.6701570749282837),\n",
       " ('damion', 0.6698945760726929),\n",
       " ('sonja', 0.6695650815963745),\n",
       " ('ficciones', 0.6694453954696655),\n",
       " ('parsons', 0.6682028770446777),\n",
       " ('verification', 0.6678908467292786),\n",
       " ('tauris', 0.6658501625061035),\n",
       " ('rosa', 0.6650218367576599),\n",
       " ('diethe', 0.6648060083389282),\n",
       " ('jersey', 0.6641287803649902),\n",
       " ('abaris', 0.6636294722557068),\n",
       " ('daniela', 0.6634783744812012),\n",
       " ('talcott', 0.6626980900764465),\n",
       " ('gray', 0.6618182063102722),\n",
       " ('norris', 0.66104656457901),\n",
       " ('norton', 0.6586072444915771),\n",
       " ('ib', 0.6584859490394592),\n",
       " ('fordham', 0.6528124213218689),\n",
       " ('spillmann', 0.6510085463523865),\n",
       " ('burchell', 0.6476374268531799),\n",
       " ('configures', 0.6469740271568298),\n",
       " ('folliot', 0.6459828019142151),\n",
       " ('architectonics', 0.6451806426048279),\n",
       " ('hampshire', 0.6446235179901123),\n",
       " ('zed', 0.6437820792198181),\n",
       " ('meridian', 0.6437514424324036),\n",
       " ('burchill', 0.6424105167388916),\n",
       " ('kerr', 0.6414933204650879),\n",
       " ('sociologist', 0.640156090259552),\n",
       " ('curtis', 0.6384748220443726),\n",
       " ('brassier', 0.6339998841285706),\n",
       " ('bollingen', 0.6336473226547241),\n",
       " ('applications', 0.6327552795410156),\n",
       " ('minick', 0.6321821808815002),\n",
       " ('rev', 0.6315810680389404)]"
      ]
     },
     "execution_count": 40,
     "metadata": {},
     "output_type": "execute_result"
    }
   ],
   "source": [
    "stiegler_embeddings.most_similar(\"new\",topn=60)"
   ]
  },
  {
   "cell_type": "code",
   "execution_count": 41,
   "id": "c8bf510a",
   "metadata": {},
   "outputs": [
    {
     "data": {
      "text/plain": [
       "[('betsy', 0.6950311064720154),\n",
       " ('reiterates', 0.6837288737297058),\n",
       " ('mckay', 0.6800497770309448),\n",
       " ('planetaryscale', 0.6476112604141235),\n",
       " ('form', 0.647273600101471),\n",
       " ('hyperbolic', 0.6461300253868103),\n",
       " ('temporarily', 0.6372576355934143),\n",
       " ('unequipped', 0.6358915567398071),\n",
       " ('excretions', 0.6357809901237488),\n",
       " ('retying', 0.6322972178459167)]"
      ]
     },
     "execution_count": 41,
     "metadata": {},
     "output_type": "execute_result"
    }
   ],
   "source": [
    "stiegler_embeddings.most_similar(\"life\")"
   ]
  },
  {
   "cell_type": "code",
   "execution_count": 42,
   "id": "aee5b101",
   "metadata": {},
   "outputs": [
    {
     "data": {
      "text/plain": [
       "[('technics', 0.7783751487731934),\n",
       " ('opus', 0.7124117016792297),\n",
       " ('recountable', 0.7015601396560669),\n",
       " ('being', 0.6900931000709534),\n",
       " ('reckons', 0.65132075548172),\n",
       " ('cinematic', 0.6437417268753052),\n",
       " ('magnum', 0.6382471919059753),\n",
       " ('recounted', 0.6329964995384216),\n",
       " ('edn', 0.6221849918365479),\n",
       " ('discounted', 0.6206428408622742)]"
      ]
     },
     "execution_count": 42,
     "metadata": {},
     "output_type": "execute_result"
    }
   ],
   "source": [
    "stiegler_embeddings.most_similar(\"time\")"
   ]
  },
  {
   "cell_type": "code",
   "execution_count": 43,
   "id": "03050345",
   "metadata": {},
   "outputs": [
    {
     "data": {
      "text/plain": [
       "[('organizations', 0.7734149098396301),\n",
       " ('fairecorps', 0.7462049722671509),\n",
       " ('cohesiveness', 0.7320536971092224),\n",
       " ('forums', 0.7183137536048889),\n",
       " ('preceptive', 0.7002842426300049),\n",
       " ('twitter', 0.6924000978469849),\n",
       " ('organisations', 0.6745263338088989),\n",
       " ('systems', 0.6706475615501404),\n",
       " ('techne', 0.6651277542114258),\n",
       " ('interiorizations', 0.6627331376075745)]"
      ]
     },
     "execution_count": 43,
     "metadata": {},
     "output_type": "execute_result"
    }
   ],
   "source": [
    "stiegler_embeddings.most_similar(\"social\")"
   ]
  },
  {
   "cell_type": "code",
   "execution_count": 44,
   "id": "1142c2da",
   "metadata": {},
   "outputs": [
    {
     "data": {
      "text/plain": [
       "[('exosomatization', 0.7414060235023499),\n",
       " ('grammatization', 0.7218955159187317),\n",
       " ('amounts', 0.6773313283920288),\n",
       " ('stage', 0.6716558337211609),\n",
       " ('bioeconomy', 0.6624589562416077),\n",
       " ('presupposing', 0.6590014696121216),\n",
       " ('noesis', 0.6556529998779297),\n",
       " ('intermediation', 0.6434787511825562),\n",
       " ('hypostasizes', 0.6317523717880249),\n",
       " ('generates', 0.6315166354179382)]"
      ]
     },
     "execution_count": 44,
     "metadata": {},
     "output_type": "execute_result"
    }
   ],
   "source": [
    "stiegler_embeddings.most_similar(\"process\")"
   ]
  },
  {
   "cell_type": "code",
   "execution_count": 45,
   "id": "5464b511",
   "metadata": {},
   "outputs": [
    {
     "data": {
      "text/plain": [
       "[('formed', 0.6632307171821594),\n",
       " ('anabolism', 0.6627592444419861),\n",
       " ('entangling', 0.6548380851745605),\n",
       " ('life', 0.6472735404968262),\n",
       " ('metastabilized', 0.6380568146705627),\n",
       " ('produces', 0.6372544765472412),\n",
       " ('sleeping', 0.6262174844741821),\n",
       " ('knowledgeable', 0.6232702136039734),\n",
       " ('forms', 0.6223618388175964),\n",
       " ('phantasmal', 0.6201074719429016)]"
      ]
     },
     "execution_count": 45,
     "metadata": {},
     "output_type": "execute_result"
    }
   ],
   "source": [
    "stiegler_embeddings.most_similar(\"form\")"
   ]
  },
  {
   "cell_type": "code",
   "execution_count": 46,
   "id": "45f8768c",
   "metadata": {},
   "outputs": [
    {
     "data": {
      "text/plain": [
       "[('indisputably', 0.6958417892456055),\n",
       " ('fuller', 0.6755398511886597),\n",
       " ('assumé', 0.6632747054100037),\n",
       " ('irreplaceable', 0.6378062963485718),\n",
       " ('use', 0.635806679725647),\n",
       " ('stases', 0.6349762678146362),\n",
       " ('decencies', 0.6299620866775513),\n",
       " ('entrusts', 0.6293234825134277),\n",
       " ('touching', 0.6237022280693054),\n",
       " ('rites', 0.6191475987434387)]"
      ]
     },
     "execution_count": 46,
     "metadata": {},
     "output_type": "execute_result"
    }
   ],
   "source": [
    "stiegler_embeddings.most_similar(\"human\")"
   ]
  },
  {
   "cell_type": "code",
   "execution_count": 64,
   "id": "aa7e3e50",
   "metadata": {},
   "outputs": [
    {
     "data": {
      "text/plain": [
       "[('oeuvre', 0.7045726776123047),\n",
       " ('machining', 0.6789089441299438),\n",
       " ('incipient', 0.640733003616333),\n",
       " ('gertrud', 0.6354646682739258),\n",
       " ('forgive', 0.6343595385551453),\n",
       " ('sklave', 0.6271559000015259),\n",
       " ('guermantes', 0.6255441904067993),\n",
       " ('pringle', 0.6212804317474365),\n",
       " ('berthoz', 0.6190484762191772),\n",
       " ('jugnon', 0.6177981495857239),\n",
       " ('wright', 0.607524037361145),\n",
       " ('encyclopédie', 0.6058285236358643),\n",
       " ('usinage', 0.6043871641159058),\n",
       " ('percy', 0.6031429767608643),\n",
       " ('ergon', 0.6018969416618347),\n",
       " ('insel', 0.6005558967590332),\n",
       " ('ponos', 0.5979288816452026),\n",
       " ('foams', 0.5978714823722839),\n",
       " ('megalopolis', 0.5968129634857178),\n",
       " ('volume', 0.5952571630477905),\n",
       " ('ripe', 0.5940473675727844),\n",
       " ('jurist', 0.5931965112686157),\n",
       " ('theater', 0.5929640531539917),\n",
       " ('lorenz', 0.5926090478897095),\n",
       " ('reclassifies', 0.5897657871246338),\n",
       " ('jeanpaul', 0.5879837870597839),\n",
       " ('ellul', 0.5876849293708801),\n",
       " ('mesopotamians', 0.5856719613075256),\n",
       " ('elaborating', 0.5854295492172241),\n",
       " ('offshoot', 0.5848622918128967)]"
      ]
     },
     "execution_count": 64,
     "metadata": {},
     "output_type": "execute_result"
    }
   ],
   "source": [
    "stiegler_embeddings.most_similar(\"work\",topn=30)"
   ]
  },
  {
   "cell_type": "code",
   "execution_count": 49,
   "id": "5d9a996a",
   "metadata": {},
   "outputs": [
    {
     "data": {
      "text/plain": [
       "[('possessors', 0.6936253905296326),\n",
       " ('reconsiders', 0.6634501814842224),\n",
       " ('end', 0.6490176320075989),\n",
       " ('dispensable', 0.6371603012084961),\n",
       " ('anywhere', 0.623055100440979),\n",
       " ('throughout', 0.6147918105125427),\n",
       " ('nowledge', 0.6137984991073608),\n",
       " ('ludens', 0.6066657304763794),\n",
       " ('worldlessness', 0.6024610996246338),\n",
       " ('deichgräber', 0.602234959602356)]"
      ]
     },
     "execution_count": 49,
     "metadata": {},
     "output_type": "execute_result"
    }
   ],
   "source": [
    "stiegler_embeddings.most_similar(\"world\")"
   ]
  },
  {
   "cell_type": "code",
   "execution_count": 50,
   "id": "29ea682b",
   "metadata": {},
   "outputs": [
    {
     "data": {
      "text/plain": [
       "[('supplement', 0.6943079233169556),\n",
       " ('truth', 0.6855506896972656),\n",
       " ('destruktion', 0.6625855565071106),\n",
       " ('prolegomena', 0.6574305891990662),\n",
       " ('eve', 0.6492791175842285),\n",
       " ('palaeogenesis', 0.6395227909088135),\n",
       " ('theorization', 0.6335371136665344),\n",
       " ('subunit', 0.6334644556045532),\n",
       " ('latters', 0.6312726736068726),\n",
       " ('gobbledygook', 0.6304123997688293)]"
      ]
     },
     "execution_count": 50,
     "metadata": {},
     "output_type": "execute_result"
    }
   ],
   "source": [
    "stiegler_embeddings.most_similar(\"history\")"
   ]
  },
  {
   "cell_type": "code",
   "execution_count": 51,
   "id": "f373384c",
   "metadata": {},
   "outputs": [
    {
     "data": {
      "text/plain": [
       "[('libidinal', 0.810948371887207),\n",
       " ('unbind', 0.7699127793312073),\n",
       " ('soliciting', 0.7084733247756958),\n",
       " ('superegoization', 0.6999993920326233),\n",
       " ('reterritorialized', 0.670151948928833),\n",
       " ('remunerates', 0.6683221459388733),\n",
       " ('decomposes', 0.6621710658073425),\n",
       " ('casino', 0.654259443283081),\n",
       " ('speculates', 0.6447729468345642),\n",
       " ('shamelessly', 0.6400771141052246)]"
      ]
     },
     "execution_count": 51,
     "metadata": {},
     "output_type": "execute_result"
    }
   ],
   "source": [
    "stiegler_embeddings.most_similar(\"economy\")"
   ]
  },
  {
   "cell_type": "code",
   "execution_count": 54,
   "id": "ecc5f798",
   "metadata": {},
   "outputs": [
    {
     "data": {
      "text/plain": [
       "[('calculable', 0.6846156120300293),\n",
       " ('millon', 0.6815358996391296),\n",
       " ('jérôme', 0.6720448732376099),\n",
       " ('forme', 0.6706740856170654),\n",
       " ('milon', 0.6684623956680298),\n",
       " ('champ', 0.6597888469696045),\n",
       " ('shannon', 0.6511839032173157),\n",
       " ('message', 0.6427425146102905),\n",
       " ('entropie', 0.6341456174850464),\n",
       " ('algorithmized', 0.632948100566864),\n",
       " ('notion', 0.6288690567016602),\n",
       " ('simondon', 0.6287142038345337),\n",
       " ('vallon', 0.6245046854019165),\n",
       " ('compounded', 0.6189964413642883),\n",
       " ('clarisse', 0.6166259050369263),\n",
       " ('theory', 0.615759551525116),\n",
       " ('grenoble', 0.6137174367904663),\n",
       " ('strings', 0.6065369248390198),\n",
       " ('extensions', 0.6024665832519531),\n",
       " ('tends', 0.6011979579925537)]"
      ]
     },
     "execution_count": 54,
     "metadata": {},
     "output_type": "execute_result"
    }
   ],
   "source": [
    "stiegler_embeddings.most_similar(\"information\",topn=20)"
   ]
  },
  {
   "cell_type": "code",
   "execution_count": 55,
   "id": "caf4de48",
   "metadata": {},
   "outputs": [
    {
     "data": {
      "text/plain": [
       "[('noesis', 0.7496042847633362),\n",
       " ('process', 0.7414060235023499),\n",
       " ('stage', 0.6948556303977966),\n",
       " ('instrumentation', 0.694420337677002),\n",
       " ('différantiations', 0.6888275742530823),\n",
       " ('exosomatic', 0.6629048585891724),\n",
       " ('inflected', 0.6605826020240784),\n",
       " ('organological', 0.6604673266410828),\n",
       " ('presupposing', 0.6546507477760315),\n",
       " ('pharmacological', 0.6417052745819092)]"
      ]
     },
     "execution_count": 55,
     "metadata": {},
     "output_type": "execute_result"
    }
   ],
   "source": [
    "stiegler_embeddings.most_similar(\"exosomatization\")"
   ]
  },
  {
   "cell_type": "code",
   "execution_count": 57,
   "id": "c9d811be",
   "metadata": {},
   "outputs": [
    {
     "data": {
      "text/plain": [
       "[('wayt', 0.7285979986190796),\n",
       " ('etat', 0.6485500931739807),\n",
       " ('thermodynamics', 0.639646053314209),\n",
       " ('moore', 0.6243055462837219),\n",
       " ('codification', 0.6189357042312622),\n",
       " ('argues', 0.6165393590927124),\n",
       " ('willard', 0.6105804443359375),\n",
       " ('epistemically', 0.6009669899940491),\n",
       " ('redeveloping', 0.599131166934967),\n",
       " ('lawfully', 0.5974716544151306),\n",
       " ('efficacity', 0.5952702164649963),\n",
       " ('gordon', 0.5921279788017273),\n",
       " ('dividualized', 0.5871321558952332),\n",
       " ('facts', 0.586336076259613),\n",
       " ('plead', 0.5861732959747314),\n",
       " ('deterministic', 0.5847333669662476),\n",
       " ('droit', 0.5823637843132019),\n",
       " ('qualifying', 0.5803089737892151),\n",
       " ('violated', 0.5780823826789856),\n",
       " ('separable', 0.5779855251312256)]"
      ]
     },
     "execution_count": 57,
     "metadata": {},
     "output_type": "execute_result"
    }
   ],
   "source": [
    "stiegler_embeddings.most_similar(\"law\",topn=20)"
   ]
  },
  {
   "cell_type": "code",
   "execution_count": 58,
   "id": "0ea6266a",
   "metadata": {},
   "outputs": [
    {
     "data": {
      "text/plain": [
       "[('impossibility', 0.7105826735496521),\n",
       " ('versorgen', 0.7088858485221863),\n",
       " ('preindustrial', 0.6784926652908325),\n",
       " ('metabolically', 0.6584317088127136),\n",
       " ('verbinden', 0.6535579562187195),\n",
       " ('condition', 0.6518344879150391),\n",
       " ('traceological', 0.6453644633293152),\n",
       " ('opens', 0.6339179277420044),\n",
       " ('dysfunctioning', 0.6312413215637207),\n",
       " ('epochality', 0.6112080216407776)]"
      ]
     },
     "execution_count": 58,
     "metadata": {},
     "output_type": "execute_result"
    }
   ],
   "source": [
    "stiegler_embeddings.most_similar(\"possibility\")"
   ]
  },
  {
   "cell_type": "code",
   "execution_count": 59,
   "id": "73edbe14",
   "metadata": {},
   "outputs": [
    {
     "data": {
      "text/plain": [
       "[('destinerrance', 0.7429234981536865),\n",
       " ('progessive', 0.7389997243881226),\n",
       " ('changeable', 0.7111687064170837),\n",
       " ('exorganologically', 0.6751307249069214),\n",
       " ('vital', 0.6713575124740601),\n",
       " ('réponse', 0.659412145614624),\n",
       " ('punctuating', 0.6562946438789368),\n",
       " ('diachronizes', 0.6458803415298462),\n",
       " ('endangered', 0.645839512348175),\n",
       " ('extraordinariness', 0.6440855264663696)]"
      ]
     },
     "execution_count": 59,
     "metadata": {},
     "output_type": "execute_result"
    }
   ],
   "source": [
    "stiegler_embeddings.most_similar(\"différance\")"
   ]
  },
  {
   "cell_type": "code",
   "execution_count": 60,
   "id": "f1ee8d0c",
   "metadata": {},
   "outputs": [
    {
     "data": {
      "text/plain": [
       "[('confessional', 0.7427374124526978),\n",
       " ('juridical', 0.7286351919174194),\n",
       " ('economic', 0.6968097686767578),\n",
       " ('sculptural', 0.6936711072921753),\n",
       " ('counteroffensive', 0.6851301193237305),\n",
       " ('politicizing', 0.6843305230140686),\n",
       " ('separable', 0.651263415813446),\n",
       " ('mensuration', 0.6404749751091003),\n",
       " ('executes', 0.637700617313385),\n",
       " ('politics', 0.6283573508262634)]"
      ]
     },
     "execution_count": 60,
     "metadata": {},
     "output_type": "execute_result"
    }
   ],
   "source": [
    "stiegler_embeddings.most_similar(\"political\")"
   ]
  },
  {
   "cell_type": "code",
   "execution_count": 61,
   "id": "335fa021",
   "metadata": {},
   "outputs": [
    {
     "data": {
      "text/plain": [
       "[('history', 0.6855507493019104),\n",
       " ('parrhēsia', 0.6713111400604248),\n",
       " ('demonstrative', 0.6690159440040588),\n",
       " ('prescribing', 0.6620133519172668),\n",
       " ('steeped', 0.6480745077133179),\n",
       " ('exotranscendent', 0.6435725092887878),\n",
       " ('ὄρθοθης', 0.6292418241500854),\n",
       " ('gobbledygook', 0.6263366341590881),\n",
       " ('postnietzschean', 0.6244135499000549),\n",
       " ('redeveloping', 0.6211407780647278)]"
      ]
     },
     "execution_count": 61,
     "metadata": {},
     "output_type": "execute_result"
    }
   ],
   "source": [
    "stiegler_embeddings.most_similar(\"truth\")"
   ]
  },
  {
   "cell_type": "code",
   "execution_count": 62,
   "id": "d30db71d",
   "metadata": {},
   "outputs": [
    {
     "data": {
      "text/plain": [
       "[('efficiens', 0.6808101534843445),\n",
       " ('deserve', 0.6687602400779724),\n",
       " ('preliminarily', 0.6638022065162659),\n",
       " ('orthōtes', 0.6569955348968506),\n",
       " ('defender', 0.6546260118484497),\n",
       " ('flowed', 0.6420766711235046),\n",
       " ('explores', 0.6409118175506592),\n",
       " ('presupposing', 0.6338056325912476),\n",
       " ('familiarized', 0.6308512091636658),\n",
       " ('sketched', 0.624544084072113)]"
      ]
     },
     "execution_count": 62,
     "metadata": {},
     "output_type": "execute_result"
    }
   ],
   "source": [
    "stiegler_embeddings.most_similar(\"postnietzschean\")"
   ]
  },
  {
   "cell_type": "code",
   "execution_count": null,
   "id": "b50023b5",
   "metadata": {},
   "outputs": [],
   "source": []
  }
 ],
 "metadata": {
  "kernelspec": {
   "display_name": "Python 3 (ipykernel)",
   "language": "python",
   "name": "python3"
  },
  "language_info": {
   "codemirror_mode": {
    "name": "ipython",
    "version": 3
   },
   "file_extension": ".py",
   "mimetype": "text/x-python",
   "name": "python",
   "nbconvert_exporter": "python",
   "pygments_lexer": "ipython3",
   "version": "3.9.7"
  }
 },
 "nbformat": 4,
 "nbformat_minor": 5
}
